{
 "cells": [
  {
   "cell_type": "markdown",
   "id": "9c9f290c",
   "metadata": {},
   "source": [
    "## Projet 7 : Mettre en œuvre un outil de “scoring crédit” pour calculer la probabilité qu’un client rembourse son crédit, puis classifie la demande en crédit accordé ou refusé."
   ]
  },
  {
   "cell_type": "markdown",
   "id": "43a54a71",
   "metadata": {},
   "source": [
    "### Partie-2 : Pré-traitement des données"
   ]
  },
  {
   "cell_type": "markdown",
   "id": "3a08a3c1",
   "metadata": {},
   "source": [
    "  - [Pré-traitement des jeux de données](#Pré-traitement-des-jeux-de-données)\n",
    "      * [1- application_train et application_test](#1--application_train-et-application_test)\n",
    "      * [2- bureau et bureau_balance](#2--bureau-et-bureau_balance)\n",
    "      * [3- POS_CASH_balance](#3--POS_CASH_balance)\n",
    "      * [4- credit_card_balance](#4--credit_card_balance)\n",
    "      * [5- installments_payments](#5--installments_payments)\n",
    "      * [6- previous_application](#6--previous_application)\n",
    "  - [Formats des jeux de données avant et aprés pré-traitement](#Formats-des-jeux-de-données-avant-et-aprés-pré-traitement)    \n",
    "  - [Jointure des jeux de données](#Jointure-des-jeux-de-données)\n",
    "  - [Format et structure du nouveau jeu de données](#Format-et-structure-du-nouveau-jeu-de-données)\n",
    "  - [Jeux d'entrainement et de test](#Jeux-d'entrainement-et-de-test)\n",
    "  - [Valuers manquantes et leur traitement](#Valuers-manquantes-et-leur-traitement)\n",
    "  - [Imputation des valeurs manquantes](#Imputation-des-valeurs-manquantes)\n",
    "  - [Améleoration de l'usage de la mémoire par nos variables](#Améleoration-de-l'usage-de-la-mémoire-par-nos-variables)\n",
    "  - [Enregistrement des nouveaux jeux de données](#Enregistrement-des-nouveaux-jeux-de-données)\n",
    "  \n"
   ]
  },
  {
   "cell_type": "markdown",
   "id": "d934cfcf",
   "metadata": {},
   "source": [
    "### Importer les modules nécéssaires "
   ]
  },
  {
   "cell_type": "code",
   "execution_count": 1,
   "id": "23d807ea",
   "metadata": {},
   "outputs": [],
   "source": [
    "import numpy as np\n",
    "import pandas as pd"
   ]
  },
  {
   "cell_type": "code",
   "execution_count": 2,
   "id": "72c58c3e",
   "metadata": {},
   "outputs": [],
   "source": [
    "import gc\n",
    "import time\n",
    "import re\n",
    "from contextlib import contextmanager"
   ]
  },
  {
   "cell_type": "code",
   "execution_count": 3,
   "id": "d681a9ea",
   "metadata": {},
   "outputs": [],
   "source": [
    "import warnings\n",
    "warnings.simplefilter(action='ignore', category=FutureWarning)"
   ]
  },
  {
   "cell_type": "code",
   "execution_count": 4,
   "id": "2fb9718f",
   "metadata": {},
   "outputs": [],
   "source": [
    "from sklearn.impute import SimpleImputer"
   ]
  },
  {
   "cell_type": "code",
   "execution_count": 5,
   "id": "43c57871",
   "metadata": {},
   "outputs": [],
   "source": [
    "from sklearn.metrics import   make_scorer ,roc_curve,  classification_report, confusion_matrix\n",
    "from sklearn.metrics import accuracy_score, roc_auc_score,f1_score, precision_score, recall_score ,average_precision_score\n"
   ]
  },
  {
   "cell_type": "code",
   "execution_count": 6,
   "id": "dc632c55",
   "metadata": {},
   "outputs": [],
   "source": [
    "import fonctionsUtiles as fctUtiles"
   ]
  },
  {
   "cell_type": "code",
   "execution_count": 7,
   "id": "c1dd593c",
   "metadata": {},
   "outputs": [],
   "source": [
    "#Temps d'exécution\n",
    "@contextmanager\n",
    "def timer(title):\n",
    "    t0 = time.time()\n",
    "    yield\n",
    "    print(\"{} - done in {:.0f}s\".format(title, time.time() - t0))"
   ]
  },
  {
   "cell_type": "markdown",
   "id": "55b9f476",
   "metadata": {},
   "source": [
    "### Pré-traitement des jeux de données"
   ]
  },
  {
   "cell_type": "markdown",
   "id": "f83b79ff",
   "metadata": {},
   "source": [
    "###### 1- application_train et application_test"
   ]
  },
  {
   "cell_type": "code",
   "execution_count": 8,
   "id": "de0b2c02",
   "metadata": {},
   "outputs": [],
   "source": [
    "def application_train_test(num_rows = None, nan_as_category = False):\n",
    "    # Read data and merge\n",
    "    train_df = pd.read_csv('data/application_train.csv', nrows= num_rows)\n",
    "    test_df = pd.read_csv('data/application_test.csv', nrows= num_rows)\n",
    "    print(\"Format avant pré-traitement\")\n",
    "    print(\"Train samples: {}, test samples: {}\".format(train_df.shape, test_df.shape))\n",
    "    #df = df.append(test_df).reset_index()\n",
    "    df = pd.concat([train_df,test_df], axis=0)\n",
    "    df.reset_index()\n",
    "    print(\"Data concatened: {}\".format(df.shape))\n",
    "    \n",
    "    # Optional: Remove 4 applications with XNA CODE_GENDER (train set)\n",
    "    df = df[df['CODE_GENDER'] != 'XNA']\n",
    "    \n",
    "    # Categorical features with Binary encode (0 or 1; two categories)\n",
    "    for bin_feature in ['CODE_GENDER', 'FLAG_OWN_CAR', 'FLAG_OWN_REALTY']:\n",
    "        df[bin_feature], uniques = pd.factorize(df[bin_feature])\n",
    "    # Categorical features with One-Hot encode\n",
    "    df, cat_cols = fctUtiles.one_hot_encoder(df, nan_as_category)\n",
    "    \n",
    "    # NaN values for DAYS_EMPLOYED: 365.243 -> nan\n",
    "    df['DAYS_EMPLOYED'].replace(365243, np.nan, inplace= True)\n",
    "    # Some simple new features (percentages)\n",
    "    # Some simple new features (percentages)\n",
    "    df.loc[:,'DAYS_EMPLOYED_PERC'] = df['DAYS_EMPLOYED'] / df['DAYS_BIRTH']\n",
    "    df.loc[:,'INCOME_CREDIT_PERC'] = df['AMT_INCOME_TOTAL'] / df['AMT_CREDIT']\n",
    "    df.loc[:,'INCOME_PER_PERSON'] = df['AMT_INCOME_TOTAL'] / df['CNT_FAM_MEMBERS']\n",
    "    df.loc[:,'ANNUITY_INCOME_PERC'] = df['AMT_ANNUITY'] / df['AMT_INCOME_TOTAL']\n",
    "    df.loc[:,'PAYMENT_RATE'] = df['AMT_ANNUITY'] / df['AMT_CREDIT']\n",
    "    \n",
    "    df = df.set_index('SK_ID_CURR')\n",
    "    \n",
    "    print(\"Format aprés pré-traitement\")\n",
    "    print(\"Train-test samples: {}\".format(df.shape))\n",
    "    print(\"-\"*100)\n",
    "    \n",
    "    del test_df\n",
    "    gc.collect()\n",
    "    \n",
    "    return df"
   ]
  },
  {
   "cell_type": "markdown",
   "id": "44146032",
   "metadata": {},
   "source": [
    "###### 2- bureau et bureau_balance"
   ]
  },
  {
   "cell_type": "code",
   "execution_count": 9,
   "id": "12056293",
   "metadata": {},
   "outputs": [],
   "source": [
    "# Preprocess bureau.csv and bureau_balance.csv\n",
    "def bureau_and_balance(nan_as_category = True):\n",
    "    bureau = pd.read_csv('data/bureau.csv')\n",
    "    bb = pd.read_csv('data/bureau_balance.csv')\n",
    "    \n",
    "    print(\"Format avant pré-traitement\")\n",
    "    print(\"bureau samples: {}, bureau_balance : {} \".format(bureau.shape, bb.shape))\n",
    "    \n",
    "    bb, bb_cat = fctUtiles.one_hot_encoder(bb, nan_as_category)\n",
    "    bureau, bureau_cat = fctUtiles.one_hot_encoder(bureau, nan_as_category)\n",
    "    \n",
    "    # Bureau balance: Perform aggregations and merge with bureau.csv\n",
    "    bb_aggregations = {'MONTHS_BALANCE': ['min', 'max', 'size']}\n",
    "    for col in bb_cat:\n",
    "        bb_aggregations[col] = ['mean']\n",
    "    bb_agg = bb.groupby('SK_ID_BUREAU').agg(bb_aggregations)\n",
    "    bb_agg.columns = pd.Index([e[0] + \"_\" + e[1].upper() for e in bb_agg.columns.tolist()])\n",
    "    bureau = bureau.join(bb_agg, how='left', on='SK_ID_BUREAU')\n",
    "    bureau.drop(['SK_ID_BUREAU'], axis=1, inplace= True)\n",
    "    del bb, bb_agg\n",
    "    gc.collect()\n",
    "    \n",
    "    # Bureau and bureau_balance numeric features\n",
    "    num_aggregations = {\n",
    "        'DAYS_CREDIT': ['min', 'max', 'mean', 'var'],\n",
    "        'DAYS_CREDIT_ENDDATE': ['min', 'max', 'mean'],\n",
    "        'DAYS_CREDIT_UPDATE': ['mean'],\n",
    "        'CREDIT_DAY_OVERDUE': ['max', 'mean'],\n",
    "        'AMT_CREDIT_MAX_OVERDUE': ['mean'],\n",
    "        'AMT_CREDIT_SUM': ['max', 'mean', 'sum'],\n",
    "        'AMT_CREDIT_SUM_DEBT': ['max', 'mean', 'sum'],\n",
    "        'AMT_CREDIT_SUM_OVERDUE': ['mean'],\n",
    "        'AMT_CREDIT_SUM_LIMIT': ['mean', 'sum'],\n",
    "        'AMT_ANNUITY': ['max', 'mean'],\n",
    "        'CNT_CREDIT_PROLONG': ['sum'],\n",
    "        'MONTHS_BALANCE_MIN': ['min'],\n",
    "        'MONTHS_BALANCE_MAX': ['max'],\n",
    "        'MONTHS_BALANCE_SIZE': ['mean', 'sum']\n",
    "    }\n",
    "    # Bureau and bureau_balance categorical features\n",
    "    cat_aggregations = {}\n",
    "    for cat in bureau_cat: cat_aggregations[cat] = ['mean']\n",
    "    for cat in bb_cat: cat_aggregations[cat + \"_MEAN\"] = ['mean']\n",
    "    \n",
    "    bureau_agg = bureau.groupby('SK_ID_CURR').agg({**num_aggregations, **cat_aggregations})\n",
    "    bureau_agg.columns = pd.Index(['BURO_' + e[0] + \"_\" + e[1].upper() for e in bureau_agg.columns.tolist()])\n",
    "    # Bureau: Active credits - using only numerical aggregations\n",
    "    active = bureau[bureau['CREDIT_ACTIVE_Active'] == 1]\n",
    "    active_agg = active.groupby('SK_ID_CURR').agg(num_aggregations)\n",
    "    active_agg.columns = pd.Index(['ACTIVE_' + e[0] + \"_\" + e[1].upper() for e in active_agg.columns.tolist()])\n",
    "    bureau_agg = bureau_agg.join(active_agg, how='left', on='SK_ID_CURR')\n",
    "    del active, active_agg\n",
    "    gc.collect()\n",
    "    # Bureau: Closed credits - using only numerical aggregations\n",
    "    closed = bureau[bureau['CREDIT_ACTIVE_Closed'] == 1]\n",
    "    closed_agg = closed.groupby('SK_ID_CURR').agg(num_aggregations)\n",
    "    closed_agg.columns = pd.Index(['CLOSED_' + e[0] + \"_\" + e[1].upper() for e in closed_agg.columns.tolist()])\n",
    "    bureau_agg = bureau_agg.join(closed_agg, how='left', on='SK_ID_CURR')\n",
    " \n",
    "    del bureau, closed, closed_agg \n",
    "    gc.collect()\n",
    "    \n",
    "    print(\"Format aprés pré-traitement\")\n",
    "    print(\"bureau_agg samples: {}\".format(bureau_agg.shape))\n",
    "    print(\"-\"*100)\n",
    "    return bureau_agg"
   ]
  },
  {
   "cell_type": "markdown",
   "id": "7038369d",
   "metadata": {},
   "source": [
    "###### 3- POS_CASH_balance"
   ]
  },
  {
   "cell_type": "code",
   "execution_count": 10,
   "id": "dbb718f6",
   "metadata": {},
   "outputs": [],
   "source": [
    "# Preprocess POS_CASH_balance.csv\n",
    "def pos_cash(nan_as_category = True):\n",
    "    pos = pd.read_csv('data/POS_CASH_balance.csv')\n",
    "    print(\"Format avant pré-traitement\")\n",
    "    print(\"POS_CASH_balance: {}\".format(pos.shape))\n",
    "    pos, cat_cols = fctUtiles.one_hot_encoder(pos, nan_as_category= True)\n",
    "    # Features\n",
    "    aggregations = {\n",
    "        'MONTHS_BALANCE': ['max', 'mean', 'size'],\n",
    "        'SK_DPD': ['max', 'mean'],\n",
    "        'SK_DPD_DEF': ['max', 'mean']\n",
    "    }\n",
    "    for cat in cat_cols:\n",
    "        aggregations[cat] = ['mean']\n",
    "    \n",
    "    pos_agg = pos.groupby('SK_ID_CURR').agg(aggregations)\n",
    "    pos_agg.columns = pd.Index(['POS_' + e[0] + \"_\" + e[1].upper() for e in pos_agg.columns.tolist()])\n",
    "    # Count pos cash accounts\n",
    "    pos_agg['POS_COUNT'] = pos.groupby('SK_ID_CURR').size()\n",
    "    \n",
    "    del pos\n",
    "    gc.collect()\n",
    "    \n",
    "    \n",
    "    print(\"Format aprés pré-traitement\")\n",
    "    print(\"pos_agg samples: {}\".format(pos_agg.shape))\n",
    "    print(\"-\"*100)\n",
    "    return pos_agg"
   ]
  },
  {
   "cell_type": "markdown",
   "id": "1230e0e2",
   "metadata": {},
   "source": [
    "###### 4- credit_card_balance"
   ]
  },
  {
   "cell_type": "code",
   "execution_count": 11,
   "id": "9f1401dd",
   "metadata": {},
   "outputs": [],
   "source": [
    "# Preprocess credit_card_balance.csv\n",
    "def credit_card_balance(nan_as_category = True):\n",
    "    cc = pd.read_csv('data/credit_card_balance.csv')\n",
    "    \n",
    "    print(\"Format avant pré-traitement\")\n",
    "    print(\"credit_card_balance samples: {}\".format(cc.shape))\n",
    "    cc, cat_cols = fctUtiles.one_hot_encoder(cc, nan_as_category= True)\n",
    "    # General aggregations\n",
    "    cc.drop(['SK_ID_PREV'], axis= 1, inplace = True)\n",
    "    cc_agg = cc.groupby('SK_ID_CURR').agg(['min', 'max', 'mean', 'sum', 'var'])\n",
    "    cc_agg.columns = pd.Index(['CC_' + e[0] + \"_\" + e[1].upper() for e in cc_agg.columns.tolist()])\n",
    "    # Count credit card lines\n",
    "    cc_agg['CC_COUNT'] = cc.groupby('SK_ID_CURR').size()\n",
    "    \n",
    "    del cc\n",
    "    gc.collect()\n",
    "    \n",
    "    print(\"Format aprés pré-traitement\")\n",
    "    print(\"cc_agg samples: {}\".format(cc_agg.shape))\n",
    "    print(\"-\"*100)\n",
    "    return cc_agg"
   ]
  },
  {
   "cell_type": "markdown",
   "id": "453b3f75",
   "metadata": {},
   "source": [
    "###### 5- installments_payments"
   ]
  },
  {
   "cell_type": "code",
   "execution_count": 12,
   "id": "4b6a04c4",
   "metadata": {},
   "outputs": [],
   "source": [
    "# Preprocess installments_payments.csv\n",
    "def installments_payments(nan_as_category = True):\n",
    "    ins = pd.read_csv('data/installments_payments.csv')\n",
    "    print(\"Format avant pré-traitement\")\n",
    "    print(\"installments_payments samples: {}\".format(ins.shape))\n",
    "    ins, cat_cols = fctUtiles.one_hot_encoder(ins, nan_as_category= True)\n",
    "    # Percentage and difference paid in each installment (amount paid and installment value)\n",
    "    ins['PAYMENT_PERC'] = ins['AMT_PAYMENT'] / ins['AMT_INSTALMENT']\n",
    "    ins['PAYMENT_DIFF'] = ins['AMT_INSTALMENT'] - ins['AMT_PAYMENT']\n",
    "    # Days past due and days before due (no negative values)\n",
    "    ins['DPD'] = ins['DAYS_ENTRY_PAYMENT'] - ins['DAYS_INSTALMENT']\n",
    "    ins['DBD'] = ins['DAYS_INSTALMENT'] - ins['DAYS_ENTRY_PAYMENT']\n",
    "    ins['DPD'] = ins['DPD'].apply(lambda x: x if x > 0 else 0)\n",
    "    ins['DBD'] = ins['DBD'].apply(lambda x: x if x > 0 else 0)\n",
    "    # Features: Perform aggregations\n",
    "    aggregations = {\n",
    "        'NUM_INSTALMENT_VERSION': ['nunique'],\n",
    "        'DPD': ['max', 'mean', 'sum'],\n",
    "        'DBD': ['max', 'mean', 'sum'],\n",
    "        'PAYMENT_PERC': ['max', 'mean', 'sum', 'var'],\n",
    "        'PAYMENT_DIFF': ['max', 'mean', 'sum', 'var'],\n",
    "        'AMT_INSTALMENT': ['max', 'mean', 'sum'],\n",
    "        'AMT_PAYMENT': ['min', 'max', 'mean', 'sum'],\n",
    "        'DAYS_ENTRY_PAYMENT': ['max', 'mean', 'sum']\n",
    "    }\n",
    "    for cat in cat_cols:\n",
    "        aggregations[cat] = ['mean']\n",
    "    ins_agg = ins.groupby('SK_ID_CURR').agg(aggregations)\n",
    "    ins_agg.columns = pd.Index(['INSTAL_' + e[0] + \"_\" + e[1].upper() for e in ins_agg.columns.tolist()])\n",
    "    # Count installments accounts\n",
    "    ins_agg['INSTAL_COUNT'] = ins.groupby('SK_ID_CURR').size()\n",
    "    \n",
    "    del ins\n",
    "    gc.collect()\n",
    "    \n",
    "    \n",
    "    print(\"Format aprés pré-traitement\")\n",
    "    print(\"ins_agg samples: {}\".format(ins_agg.shape))\n",
    "    print(\"-\"*100)\n",
    "    return ins_agg"
   ]
  },
  {
   "cell_type": "markdown",
   "id": "a4aecc61",
   "metadata": {},
   "source": [
    "###### 6- previous_application"
   ]
  },
  {
   "cell_type": "code",
   "execution_count": 13,
   "id": "e2d02862",
   "metadata": {},
   "outputs": [],
   "source": [
    "# Preprocess previous_applications.csv\n",
    "def previous_applications(nan_as_category = True):\n",
    "    prev = pd.read_csv('data/previous_application.csv')\n",
    "    \n",
    "    print(\"Format avant pré-traitement\")\n",
    "    print(\"previous_application samples: {}\".format(prev.shape))\n",
    "    \n",
    "    prev, cat_cols = fctUtiles.one_hot_encoder(prev, nan_as_category= True)\n",
    "    # Days 365.243 values -> nan\n",
    "    prev['DAYS_FIRST_DRAWING'].replace(365243, np.nan, inplace= True)\n",
    "    prev['DAYS_FIRST_DUE'].replace(365243, np.nan, inplace= True)\n",
    "    prev['DAYS_LAST_DUE_1ST_VERSION'].replace(365243, np.nan, inplace= True)\n",
    "    prev['DAYS_LAST_DUE'].replace(365243, np.nan, inplace= True)\n",
    "    prev['DAYS_TERMINATION'].replace(365243, np.nan, inplace= True)\n",
    "    # Add feature: value ask / value received percentage\n",
    "    prev['APP_CREDIT_PERC'] = prev['AMT_APPLICATION'] / prev['AMT_CREDIT']\n",
    "    # Previous applications numeric features\n",
    "    num_aggregations = {\n",
    "        'AMT_ANNUITY': ['min', 'max', 'mean'],\n",
    "        'AMT_APPLICATION': ['min', 'max', 'mean'],\n",
    "        'AMT_CREDIT': ['min', 'max', 'mean'],\n",
    "        'APP_CREDIT_PERC': ['min', 'max', 'mean', 'var'],\n",
    "        'AMT_DOWN_PAYMENT': ['min', 'max', 'mean'],\n",
    "        'AMT_GOODS_PRICE': ['min', 'max', 'mean'],\n",
    "        'HOUR_APPR_PROCESS_START': ['min', 'max', 'mean'],\n",
    "        'RATE_DOWN_PAYMENT': ['min', 'max', 'mean'],\n",
    "        'DAYS_DECISION': ['min', 'max', 'mean'],\n",
    "        'CNT_PAYMENT': ['mean', 'sum'],\n",
    "    }\n",
    "    # Previous applications categorical features\n",
    "    cat_aggregations = {}\n",
    "    for cat in cat_cols:\n",
    "        cat_aggregations[cat] = ['mean']\n",
    "    \n",
    "    prev_agg = prev.groupby('SK_ID_CURR').agg({**num_aggregations, **cat_aggregations})\n",
    "    prev_agg.columns = pd.Index(['PREV_' + e[0] + \"_\" + e[1].upper() for e in prev_agg.columns.tolist()])\n",
    "    # Previous Applications: Approved Applications - only numerical features\n",
    "    approved = prev[prev['NAME_CONTRACT_STATUS_Approved'] == 1]\n",
    "    approved_agg = approved.groupby('SK_ID_CURR').agg(num_aggregations)\n",
    "    approved_agg.columns = pd.Index(['APPROVED_' + e[0] + \"_\" + e[1].upper() for e in approved_agg.columns.tolist()])\n",
    "    prev_agg = prev_agg.join(approved_agg, how='left', on='SK_ID_CURR')\n",
    "    # Previous Applications: Refused Applications - only numerical features\n",
    "    refused = prev[prev['NAME_CONTRACT_STATUS_Refused'] == 1]\n",
    "    refused_agg = refused.groupby('SK_ID_CURR').agg(num_aggregations)\n",
    "    refused_agg.columns = pd.Index(['REFUSED_' + e[0] + \"_\" + e[1].upper() for e in refused_agg.columns.tolist()])\n",
    "    prev_agg = prev_agg.join(refused_agg, how='left', on='SK_ID_CURR')\n",
    "    \n",
    "    del prev\n",
    "    gc.collect()\n",
    "    \n",
    "    \n",
    "    print(\"Format aprés pré-traitement\")\n",
    "    print(\"prev_agg samples: {}\".format(prev_agg.shape))\n",
    "    print(\"-\"*100)\n",
    "    return prev_agg"
   ]
  },
  {
   "cell_type": "markdown",
   "id": "5649993c",
   "metadata": {},
   "source": [
    "- Lancement des pré-traitement "
   ]
  },
  {
   "cell_type": "markdown",
   "id": "b82b0f1c",
   "metadata": {},
   "source": [
    "###### Formats des jeux de données avant et aprés pré-traitement"
   ]
  },
  {
   "cell_type": "code",
   "execution_count": 14,
   "id": "2faa8f22",
   "metadata": {},
   "outputs": [
    {
     "name": "stdout",
     "output_type": "stream",
     "text": [
      "Format avant pré-traitement\n",
      "Train samples: (307511, 122), test samples: (48744, 121)\n",
      "Data concatened: (356255, 122)\n",
      "Format aprés pré-traitement\n",
      "Train-test samples: (356251, 246)\n",
      "----------------------------------------------------------------------------------------------------\n",
      "Format avant pré-traitement\n",
      "bureau samples: (1716428, 17), bureau_balance : (27299925, 3) \n",
      "Format aprés pré-traitement\n",
      "bureau_agg samples: (305811, 116)\n",
      "----------------------------------------------------------------------------------------------------\n",
      "Format avant pré-traitement\n",
      "POS_CASH_balance: (10001358, 8)\n",
      "Format aprés pré-traitement\n",
      "pos_agg samples: (337252, 18)\n",
      "----------------------------------------------------------------------------------------------------\n",
      "Format avant pré-traitement\n",
      "installments_payments samples: (13605401, 8)\n",
      "Format aprés pré-traitement\n",
      "ins_agg samples: (339587, 26)\n",
      "----------------------------------------------------------------------------------------------------\n",
      "Format avant pré-traitement\n",
      "credit_card_balance samples: (3840312, 23)\n",
      "Format aprés pré-traitement\n",
      "cc_agg samples: (103558, 141)\n",
      "----------------------------------------------------------------------------------------------------\n"
     ]
    }
   ],
   "source": [
    "df_train_test = application_train_test()\n",
    "df_bureau_and_balance = bureau_and_balance()\n",
    "df_pos_cash = pos_cash()\n",
    "df_installments_payments = installments_payments()\n",
    "df_credit_card_balance = credit_card_balance()\n",
    "#df_previous_applications = previous_applications()"
   ]
  },
  {
   "cell_type": "markdown",
   "id": "879d8a92",
   "metadata": {},
   "source": [
    "- On remarque que le nombre de variables a augmenté pour chaque jeu de données\n",
    "- On remarque aussi que le nombre d'observations a significativement bien baissé pour certains jeus de données"
   ]
  },
  {
   "cell_type": "code",
   "execution_count": 15,
   "id": "26dec4ae",
   "metadata": {},
   "outputs": [
    {
     "data": {
      "text/plain": [
       "0"
      ]
     },
     "execution_count": 15,
     "metadata": {},
     "output_type": "execute_result"
    }
   ],
   "source": [
    "gc.collect()"
   ]
  },
  {
   "cell_type": "markdown",
   "id": "6b5eb496",
   "metadata": {},
   "source": [
    "###### Jointure des jeux de données"
   ]
  },
  {
   "cell_type": "code",
   "execution_count": 16,
   "id": "f2e8ccc7",
   "metadata": {},
   "outputs": [],
   "source": [
    "df = df_train_test \\\n",
    ".join(df_bureau_and_balance, how='left', on='SK_ID_CURR') \\\n",
    ".join(df_pos_cash, how='left', on='SK_ID_CURR') \\\n",
    ".join(df_installments_payments, how='left', on='SK_ID_CURR') \\\n",
    ".join(df_credit_card_balance, how='left', on='SK_ID_CURR') \\\n",
    ".reset_index()"
   ]
  },
  {
   "cell_type": "code",
   "execution_count": 17,
   "id": "eb76c5ba",
   "metadata": {},
   "outputs": [
    {
     "data": {
      "text/plain": [
       "0"
      ]
     },
     "execution_count": 17,
     "metadata": {},
     "output_type": "execute_result"
    }
   ],
   "source": [
    "del df_train_test, df_bureau_and_balance, df_pos_cash, df_installments_payments, df_credit_card_balance\n",
    "gc.collect()"
   ]
  },
  {
   "cell_type": "markdown",
   "id": "eb604bca",
   "metadata": {},
   "source": [
    "###### Format et structure du nouveau jeu de données"
   ]
  },
  {
   "cell_type": "code",
   "execution_count": 18,
   "id": "a16e600a",
   "metadata": {},
   "outputs": [
    {
     "data": {
      "text/html": [
       "\n",
       "    <div style=\"display:flex; gap:50px; justify-content:flex-start;\">\n",
       "        <div> <h3>Nouveau dataset</h3> <div>\n",
       "<style scoped>\n",
       "    .dataframe tbody tr th:only-of-type {\n",
       "        vertical-align: middle;\n",
       "    }\n",
       "\n",
       "    .dataframe tbody tr th {\n",
       "        vertical-align: top;\n",
       "    }\n",
       "\n",
       "    .dataframe thead th {\n",
       "        text-align: right;\n",
       "    }\n",
       "</style>\n",
       "<table border=\"1\" class=\"dataframe\">\n",
       "  <thead>\n",
       "    <tr style=\"text-align: right;\">\n",
       "      <th></th>\n",
       "      <th>Nbre de lignes</th>\n",
       "      <th>Nbre de variables</th>\n",
       "    </tr>\n",
       "  </thead>\n",
       "  <tbody>\n",
       "    <tr>\n",
       "      <th>data global</th>\n",
       "      <td>356251</td>\n",
       "      <td>548</td>\n",
       "    </tr>\n",
       "  </tbody>\n",
       "</table>\n",
       "</div></div><div> <h3>Types de variables</h3> <div>\n",
       "<style scoped>\n",
       "    .dataframe tbody tr th:only-of-type {\n",
       "        vertical-align: middle;\n",
       "    }\n",
       "\n",
       "    .dataframe tbody tr th {\n",
       "        vertical-align: top;\n",
       "    }\n",
       "\n",
       "    .dataframe thead th {\n",
       "        text-align: right;\n",
       "    }\n",
       "</style>\n",
       "<table border=\"1\" class=\"dataframe\">\n",
       "  <thead>\n",
       "    <tr style=\"text-align: right;\">\n",
       "      <th></th>\n",
       "      <th>Objet</th>\n",
       "      <th>Float</th>\n",
       "      <th>Int</th>\n",
       "      <th>Bool</th>\n",
       "    </tr>\n",
       "  </thead>\n",
       "  <tbody>\n",
       "    <tr>\n",
       "      <th></th>\n",
       "      <td>0</td>\n",
       "      <td>506</td>\n",
       "      <td>42</td>\n",
       "      <td>0</td>\n",
       "    </tr>\n",
       "  </tbody>\n",
       "</table>\n",
       "</div></div><div> <h3>Colonnes/Lignes dupliquées</h3> <div>\n",
       "<style scoped>\n",
       "    .dataframe tbody tr th:only-of-type {\n",
       "        vertical-align: middle;\n",
       "    }\n",
       "\n",
       "    .dataframe tbody tr th {\n",
       "        vertical-align: top;\n",
       "    }\n",
       "\n",
       "    .dataframe thead th {\n",
       "        text-align: right;\n",
       "    }\n",
       "</style>\n",
       "<table border=\"1\" class=\"dataframe\">\n",
       "  <thead>\n",
       "    <tr style=\"text-align: right;\">\n",
       "      <th></th>\n",
       "      <th>Colonnes dupliquées</th>\n",
       "      <th>Lignes dupliquées</th>\n",
       "    </tr>\n",
       "  </thead>\n",
       "  <tbody>\n",
       "    <tr>\n",
       "      <th></th>\n",
       "      <td>0</td>\n",
       "      <td>0</td>\n",
       "    </tr>\n",
       "  </tbody>\n",
       "</table>\n",
       "</div></div>\n",
       "    </div>\n",
       "    "
      ]
     },
     "metadata": {},
     "output_type": "display_data"
    },
    {
     "name": "stdout",
     "output_type": "stream",
     "text": [
      "------------------------------------------------------------------------------------------\n"
     ]
    }
   ],
   "source": [
    "df1 = fctUtiles.formats(df, 'data global')\n",
    "df2 = fctUtiles.vars_types(df)\n",
    "df3 = fctUtiles.colunmLigneDuplicated(df,'')\n",
    "dfs = {'Nouveau dataset': df1, 'Types de variables': df2, 'Colonnes/Lignes dupliquées':df3}\n",
    "fctUtiles.display_dfs(dfs, justify='flex-start')\n",
    "print('-'*90)\n",
    "del df1, df2, df3, dfs"
   ]
  },
  {
   "cell_type": "markdown",
   "id": "32cd3559",
   "metadata": {},
   "source": [
    "- Le nouveau jeu de données comporte 356251 observations avec 548 variables dont 506 de type float et 42 de type int"
   ]
  },
  {
   "cell_type": "code",
   "execution_count": 19,
   "id": "d7475e1c",
   "metadata": {},
   "outputs": [
    {
     "data": {
      "text/plain": [
       "0"
      ]
     },
     "execution_count": 19,
     "metadata": {},
     "output_type": "execute_result"
    }
   ],
   "source": [
    "gc.collect()"
   ]
  },
  {
   "cell_type": "code",
   "execution_count": 20,
   "id": "aaa3c438",
   "metadata": {},
   "outputs": [],
   "source": [
    "# On se rassure que les noms des colonnes sont adéquats (sans espaces)\n",
    "df.columns = list(map(lambda x: str(x).replace(\" \", \"_\").replace(\"-\", \"_\").replace(\"_/_\", \"_\").upper(),\n",
    "                      df.columns))\n",
    "df = df.rename(columns=lambda x: re.sub('[^A-Za-z0-9_]+', '', x))"
   ]
  },
  {
   "cell_type": "code",
   "execution_count": 21,
   "id": "23aa731f",
   "metadata": {},
   "outputs": [],
   "source": [
    "df = df.replace([np.inf, -np.inf], np.nan).copy()"
   ]
  },
  {
   "cell_type": "markdown",
   "id": "669fc2b8",
   "metadata": {},
   "source": [
    "###### Jeux d'entrainement et de test"
   ]
  },
  {
   "cell_type": "markdown",
   "id": "e7421cd5",
   "metadata": {},
   "source": [
    "- Nous allons séparer ce nouveau jeu de données en 2 parties : Jeu d'entrainement et jeu de test\n",
    "- Ceci en fonction de la valeur de la variable **TARGET** : renseignée ou pas    "
   ]
  },
  {
   "cell_type": "code",
   "execution_count": 22,
   "id": "023e46d2",
   "metadata": {},
   "outputs": [],
   "source": [
    "train_df = df[df['TARGET'].notnull()]\n",
    "test_df = df[df['TARGET'].isnull()]"
   ]
  },
  {
   "cell_type": "markdown",
   "id": "c99a5f99",
   "metadata": {},
   "source": [
    "- Formats:"
   ]
  },
  {
   "cell_type": "code",
   "execution_count": 23,
   "id": "78d54eef",
   "metadata": {},
   "outputs": [
    {
     "data": {
      "text/html": [
       "<div>\n",
       "<style scoped>\n",
       "    .dataframe tbody tr th:only-of-type {\n",
       "        vertical-align: middle;\n",
       "    }\n",
       "\n",
       "    .dataframe tbody tr th {\n",
       "        vertical-align: top;\n",
       "    }\n",
       "\n",
       "    .dataframe thead th {\n",
       "        text-align: right;\n",
       "    }\n",
       "</style>\n",
       "<table border=\"1\" class=\"dataframe\">\n",
       "  <thead>\n",
       "    <tr style=\"text-align: right;\">\n",
       "      <th></th>\n",
       "      <th>Nbre de lignes</th>\n",
       "      <th>Nbre de variables</th>\n",
       "    </tr>\n",
       "  </thead>\n",
       "  <tbody>\n",
       "    <tr>\n",
       "      <th>data train</th>\n",
       "      <td>307507</td>\n",
       "      <td>548</td>\n",
       "    </tr>\n",
       "  </tbody>\n",
       "</table>\n",
       "</div>"
      ],
      "text/plain": [
       "            Nbre de lignes  Nbre de variables\n",
       "data train          307507                548"
      ]
     },
     "execution_count": 23,
     "metadata": {},
     "output_type": "execute_result"
    }
   ],
   "source": [
    "fctUtiles.formats(train_df, 'data train')"
   ]
  },
  {
   "cell_type": "code",
   "execution_count": 24,
   "id": "bc28c633",
   "metadata": {},
   "outputs": [
    {
     "data": {
      "text/html": [
       "<div>\n",
       "<style scoped>\n",
       "    .dataframe tbody tr th:only-of-type {\n",
       "        vertical-align: middle;\n",
       "    }\n",
       "\n",
       "    .dataframe tbody tr th {\n",
       "        vertical-align: top;\n",
       "    }\n",
       "\n",
       "    .dataframe thead th {\n",
       "        text-align: right;\n",
       "    }\n",
       "</style>\n",
       "<table border=\"1\" class=\"dataframe\">\n",
       "  <thead>\n",
       "    <tr style=\"text-align: right;\">\n",
       "      <th></th>\n",
       "      <th>Nbre de lignes</th>\n",
       "      <th>Nbre de variables</th>\n",
       "    </tr>\n",
       "  </thead>\n",
       "  <tbody>\n",
       "    <tr>\n",
       "      <th>data test</th>\n",
       "      <td>48744</td>\n",
       "      <td>548</td>\n",
       "    </tr>\n",
       "  </tbody>\n",
       "</table>\n",
       "</div>"
      ],
      "text/plain": [
       "           Nbre de lignes  Nbre de variables\n",
       "data test           48744                548"
      ]
     },
     "execution_count": 24,
     "metadata": {},
     "output_type": "execute_result"
    }
   ],
   "source": [
    "fctUtiles.formats(test_df, 'data test')"
   ]
  },
  {
   "cell_type": "markdown",
   "id": "c3a37c7f",
   "metadata": {},
   "source": [
    "- Nous entrainerons, évaluerons et testerons nos modéles avec train_df\n",
    "- Le jeu de données test_df, nous le consacrerons pour tester notre meilleur modèle à travers l'api Flask qui sera déployé sur Heroku et ceci depuis le notre Dashboard"
   ]
  },
  {
   "cell_type": "markdown",
   "id": "4c97a818",
   "metadata": {},
   "source": [
    "###### Valuers manquantes et leur traitement"
   ]
  },
  {
   "cell_type": "markdown",
   "id": "675396ca",
   "metadata": {},
   "source": [
    "- Valeurs manquantes en nombre et en pourcentage"
   ]
  },
  {
   "cell_type": "code",
   "execution_count": 25,
   "id": "b5bb84a2",
   "metadata": {},
   "outputs": [
    {
     "data": {
      "text/html": [
       "\n",
       "    <div style=\"display:flex; gap:50px; justify-content:flex-start;\">\n",
       "        <div> <h3>Valeurs manquantes</h3> <div>\n",
       "<style scoped>\n",
       "    .dataframe tbody tr th:only-of-type {\n",
       "        vertical-align: middle;\n",
       "    }\n",
       "\n",
       "    .dataframe tbody tr th {\n",
       "        vertical-align: top;\n",
       "    }\n",
       "\n",
       "    .dataframe thead th {\n",
       "        text-align: right;\n",
       "    }\n",
       "</style>\n",
       "<table border=\"1\" class=\"dataframe\">\n",
       "  <thead>\n",
       "    <tr style=\"text-align: right;\">\n",
       "      <th></th>\n",
       "      <th>count</th>\n",
       "      <th>percent</th>\n",
       "    </tr>\n",
       "  </thead>\n",
       "  <tbody>\n",
       "    <tr>\n",
       "      <th>SK_ID_CURR</th>\n",
       "      <td>0</td>\n",
       "      <td>0.000000</td>\n",
       "    </tr>\n",
       "    <tr>\n",
       "      <th>OCCUPATION_TYPE_REALTY_AGENTS</th>\n",
       "      <td>0</td>\n",
       "      <td>0.000000</td>\n",
       "    </tr>\n",
       "    <tr>\n",
       "      <th>OCCUPATION_TYPE_SALES_STAFF</th>\n",
       "      <td>0</td>\n",
       "      <td>0.000000</td>\n",
       "    </tr>\n",
       "    <tr>\n",
       "      <th>OCCUPATION_TYPE_SECRETARIES</th>\n",
       "      <td>0</td>\n",
       "      <td>0.000000</td>\n",
       "    </tr>\n",
       "    <tr>\n",
       "      <th>OCCUPATION_TYPE_SECURITY_STAFF</th>\n",
       "      <td>0</td>\n",
       "      <td>0.000000</td>\n",
       "    </tr>\n",
       "    <tr>\n",
       "      <th>...</th>\n",
       "      <td>...</td>\n",
       "      <td>...</td>\n",
       "    </tr>\n",
       "    <tr>\n",
       "      <th>CC_CNT_DRAWINGS_ATM_CURRENT_VAR</th>\n",
       "      <td>246814</td>\n",
       "      <td>80.262888</td>\n",
       "    </tr>\n",
       "    <tr>\n",
       "      <th>CC_AMT_DRAWINGS_ATM_CURRENT_VAR</th>\n",
       "      <td>246814</td>\n",
       "      <td>80.262888</td>\n",
       "    </tr>\n",
       "    <tr>\n",
       "      <th>CC_CNT_DRAWINGS_OTHER_CURRENT_VAR</th>\n",
       "      <td>246814</td>\n",
       "      <td>80.262888</td>\n",
       "    </tr>\n",
       "    <tr>\n",
       "      <th>CC_AMT_DRAWINGS_POS_CURRENT_VAR</th>\n",
       "      <td>246814</td>\n",
       "      <td>80.262888</td>\n",
       "    </tr>\n",
       "    <tr>\n",
       "      <th>CC_AMT_PAYMENT_CURRENT_VAR</th>\n",
       "      <td>246888</td>\n",
       "      <td>80.286953</td>\n",
       "    </tr>\n",
       "  </tbody>\n",
       "</table>\n",
       "<p>548 rows × 2 columns</p>\n",
       "</div></div>\n",
       "    </div>\n",
       "    "
      ]
     },
     "metadata": {},
     "output_type": "display_data"
    }
   ],
   "source": [
    "df_nan = fctUtiles.data_count_percent(train_df)\n",
    "fctUtiles.display_dfs({'Valeurs manquantes':df_nan}, justify='flex-start')"
   ]
  },
  {
   "cell_type": "markdown",
   "id": "452c8747",
   "metadata": {},
   "source": [
    "- Nous constatons que certaines variables contiennent plus de 80% de nan\n",
    "- Nous avons fait le choix que de ne garder que les variables dont le % en nan ne dépassent pas 20%"
   ]
  },
  {
   "cell_type": "code",
   "execution_count": 26,
   "id": "247bd362",
   "metadata": {},
   "outputs": [],
   "source": [
    "df_final = fctUtiles.ratio(train_df, 0.2)"
   ]
  },
  {
   "cell_type": "code",
   "execution_count": 27,
   "id": "684c7bf3",
   "metadata": {},
   "outputs": [
    {
     "data": {
      "text/html": [
       "\n",
       "    <div style=\"display:flex; gap:50px; justify-content:flex-start;\">\n",
       "        <div> <h3>Valeurs manquantes < 20% </h3> <div>\n",
       "<style scoped>\n",
       "    .dataframe tbody tr th:only-of-type {\n",
       "        vertical-align: middle;\n",
       "    }\n",
       "\n",
       "    .dataframe tbody tr th {\n",
       "        vertical-align: top;\n",
       "    }\n",
       "\n",
       "    .dataframe thead th {\n",
       "        text-align: right;\n",
       "    }\n",
       "</style>\n",
       "<table border=\"1\" class=\"dataframe\">\n",
       "  <thead>\n",
       "    <tr style=\"text-align: right;\">\n",
       "      <th></th>\n",
       "      <th>count</th>\n",
       "      <th>percent</th>\n",
       "    </tr>\n",
       "  </thead>\n",
       "  <tbody>\n",
       "    <tr>\n",
       "      <th>SK_ID_CURR</th>\n",
       "      <td>0</td>\n",
       "      <td>0.000000</td>\n",
       "    </tr>\n",
       "    <tr>\n",
       "      <th>ORGANIZATION_TYPE_BUSINESS_ENTITY_TYPE_1</th>\n",
       "      <td>0</td>\n",
       "      <td>0.000000</td>\n",
       "    </tr>\n",
       "    <tr>\n",
       "      <th>ORGANIZATION_TYPE_BUSINESS_ENTITY_TYPE_2</th>\n",
       "      <td>0</td>\n",
       "      <td>0.000000</td>\n",
       "    </tr>\n",
       "    <tr>\n",
       "      <th>ORGANIZATION_TYPE_BUSINESS_ENTITY_TYPE_3</th>\n",
       "      <td>0</td>\n",
       "      <td>0.000000</td>\n",
       "    </tr>\n",
       "    <tr>\n",
       "      <th>ORGANIZATION_TYPE_CLEANING</th>\n",
       "      <td>0</td>\n",
       "      <td>0.000000</td>\n",
       "    </tr>\n",
       "    <tr>\n",
       "      <th>...</th>\n",
       "      <td>...</td>\n",
       "      <td>...</td>\n",
       "    </tr>\n",
       "    <tr>\n",
       "      <th>BURO_AMT_CREDIT_SUM_DEBT_MEAN</th>\n",
       "      <td>51380</td>\n",
       "      <td>16.708563</td>\n",
       "    </tr>\n",
       "    <tr>\n",
       "      <th>BURO_AMT_CREDIT_SUM_DEBT_MAX</th>\n",
       "      <td>51380</td>\n",
       "      <td>16.708563</td>\n",
       "    </tr>\n",
       "    <tr>\n",
       "      <th>DAYS_EMPLOYED_PERC</th>\n",
       "      <td>55374</td>\n",
       "      <td>18.007395</td>\n",
       "    </tr>\n",
       "    <tr>\n",
       "      <th>DAYS_EMPLOYED</th>\n",
       "      <td>55374</td>\n",
       "      <td>18.007395</td>\n",
       "    </tr>\n",
       "    <tr>\n",
       "      <th>EXT_SOURCE_3</th>\n",
       "      <td>60965</td>\n",
       "      <td>19.825565</td>\n",
       "    </tr>\n",
       "  </tbody>\n",
       "</table>\n",
       "<p>291 rows × 2 columns</p>\n",
       "</div></div>\n",
       "    </div>\n",
       "    "
      ]
     },
     "metadata": {},
     "output_type": "display_data"
    }
   ],
   "source": [
    "df_nan = fctUtiles.data_count_percent(df_final)\n",
    "fctUtiles.display_dfs({'Valeurs manquantes < 20% ':df_nan}, justify='flex-start')"
   ]
  },
  {
   "cell_type": "code",
   "execution_count": 28,
   "id": "e61f2934",
   "metadata": {},
   "outputs": [
    {
     "data": {
      "text/html": [
       "<div>\n",
       "<style scoped>\n",
       "    .dataframe tbody tr th:only-of-type {\n",
       "        vertical-align: middle;\n",
       "    }\n",
       "\n",
       "    .dataframe tbody tr th {\n",
       "        vertical-align: top;\n",
       "    }\n",
       "\n",
       "    .dataframe thead th {\n",
       "        text-align: right;\n",
       "    }\n",
       "</style>\n",
       "<table border=\"1\" class=\"dataframe\">\n",
       "  <thead>\n",
       "    <tr style=\"text-align: right;\">\n",
       "      <th></th>\n",
       "      <th>Nbre de lignes</th>\n",
       "      <th>Nbre de variables</th>\n",
       "    </tr>\n",
       "  </thead>\n",
       "  <tbody>\n",
       "    <tr>\n",
       "      <th>Jeu de données final</th>\n",
       "      <td>307507</td>\n",
       "      <td>291</td>\n",
       "    </tr>\n",
       "  </tbody>\n",
       "</table>\n",
       "</div>"
      ],
      "text/plain": [
       "                      Nbre de lignes  Nbre de variables\n",
       "Jeu de données final          307507                291"
      ]
     },
     "execution_count": 28,
     "metadata": {},
     "output_type": "execute_result"
    }
   ],
   "source": [
    "fctUtiles.formats(df_final, 'Jeu de données final')"
   ]
  },
  {
   "cell_type": "markdown",
   "id": "68729bbc",
   "metadata": {},
   "source": [
    "- Nous sommes passés de 548 à 291 variables"
   ]
  },
  {
   "cell_type": "code",
   "execution_count": 29,
   "id": "6a494cdb",
   "metadata": {},
   "outputs": [
    {
     "data": {
      "text/plain": [
       "0"
      ]
     },
     "execution_count": 29,
     "metadata": {},
     "output_type": "execute_result"
    }
   ],
   "source": [
    "del df, train_df, df_nan\n",
    "gc.collect()"
   ]
  },
  {
   "cell_type": "markdown",
   "id": "b7290c07",
   "metadata": {},
   "source": [
    "###### Imputation des valeurs manquantes"
   ]
  },
  {
   "cell_type": "code",
   "execution_count": 30,
   "id": "fe0fa4b2",
   "metadata": {},
   "outputs": [],
   "source": [
    "# Median imputation of missing values\n",
    "imputer = SimpleImputer(missing_values=np.nan, strategy='median', verbose=0)"
   ]
  },
  {
   "cell_type": "code",
   "execution_count": 31,
   "id": "58f309bf",
   "metadata": {},
   "outputs": [],
   "source": [
    "imputer.fit(df_final)\n",
    "df_final_imputed = imputer.transform(df_final)"
   ]
  },
  {
   "cell_type": "code",
   "execution_count": 32,
   "id": "c399c439",
   "metadata": {},
   "outputs": [],
   "source": [
    "data_cleaned = pd.DataFrame(df_final_imputed, \n",
    "                      index=df_final.index, \n",
    "                      columns=df_final.columns)"
   ]
  },
  {
   "cell_type": "code",
   "execution_count": 33,
   "id": "b35fef87",
   "metadata": {},
   "outputs": [
    {
     "data": {
      "text/html": [
       "\n",
       "    <div style=\"display:flex; gap:50px; justify-content:flex-start;\">\n",
       "        <div> <h3>Valeurs manquantes </h3> <div>\n",
       "<style scoped>\n",
       "    .dataframe tbody tr th:only-of-type {\n",
       "        vertical-align: middle;\n",
       "    }\n",
       "\n",
       "    .dataframe tbody tr th {\n",
       "        vertical-align: top;\n",
       "    }\n",
       "\n",
       "    .dataframe thead th {\n",
       "        text-align: right;\n",
       "    }\n",
       "</style>\n",
       "<table border=\"1\" class=\"dataframe\">\n",
       "  <thead>\n",
       "    <tr style=\"text-align: right;\">\n",
       "      <th></th>\n",
       "      <th>count</th>\n",
       "      <th>percent</th>\n",
       "    </tr>\n",
       "  </thead>\n",
       "  <tbody>\n",
       "    <tr>\n",
       "      <th>SK_ID_CURR</th>\n",
       "      <td>0</td>\n",
       "      <td>0.0</td>\n",
       "    </tr>\n",
       "    <tr>\n",
       "      <th>DAYS_EMPLOYED_PERC</th>\n",
       "      <td>0</td>\n",
       "      <td>0.0</td>\n",
       "    </tr>\n",
       "    <tr>\n",
       "      <th>EMERGENCYSTATE_MODE_YES</th>\n",
       "      <td>0</td>\n",
       "      <td>0.0</td>\n",
       "    </tr>\n",
       "    <tr>\n",
       "      <th>EMERGENCYSTATE_MODE_NO</th>\n",
       "      <td>0</td>\n",
       "      <td>0.0</td>\n",
       "    </tr>\n",
       "    <tr>\n",
       "      <th>WALLSMATERIAL_MODE_WOODEN</th>\n",
       "      <td>0</td>\n",
       "      <td>0.0</td>\n",
       "    </tr>\n",
       "    <tr>\n",
       "      <th>...</th>\n",
       "      <td>...</td>\n",
       "      <td>...</td>\n",
       "    </tr>\n",
       "    <tr>\n",
       "      <th>NAME_HOUSING_TYPE_MUNICIPAL_APARTMENT</th>\n",
       "      <td>0</td>\n",
       "      <td>0.0</td>\n",
       "    </tr>\n",
       "    <tr>\n",
       "      <th>NAME_HOUSING_TYPE_HOUSE_APARTMENT</th>\n",
       "      <td>0</td>\n",
       "      <td>0.0</td>\n",
       "    </tr>\n",
       "    <tr>\n",
       "      <th>NAME_HOUSING_TYPE_CO_OP_APARTMENT</th>\n",
       "      <td>0</td>\n",
       "      <td>0.0</td>\n",
       "    </tr>\n",
       "    <tr>\n",
       "      <th>NAME_TYPE_SUITE_UNACCOMPANIED</th>\n",
       "      <td>0</td>\n",
       "      <td>0.0</td>\n",
       "    </tr>\n",
       "    <tr>\n",
       "      <th>INSTAL_COUNT</th>\n",
       "      <td>0</td>\n",
       "      <td>0.0</td>\n",
       "    </tr>\n",
       "  </tbody>\n",
       "</table>\n",
       "<p>291 rows × 2 columns</p>\n",
       "</div></div>\n",
       "    </div>\n",
       "    "
      ]
     },
     "metadata": {},
     "output_type": "display_data"
    }
   ],
   "source": [
    "df_nan = fctUtiles.data_count_percent(data_cleaned)\n",
    "fctUtiles.display_dfs({'Valeurs manquantes ':df_nan}, justify='flex-start')"
   ]
  },
  {
   "cell_type": "markdown",
   "id": "9ed92d58",
   "metadata": {},
   "source": [
    "###### Améleoration de l'usage de la mémoire par nos variables"
   ]
  },
  {
   "cell_type": "code",
   "execution_count": 34,
   "id": "77dc694a",
   "metadata": {},
   "outputs": [
    {
     "name": "stdout",
     "output_type": "stream",
     "text": [
      "----------------------------------------------------------------------\n",
      "Memory usage du dataframe: 685.06 MB\n",
      "Memory usage après optimization: 190.62 MB\n",
      "Diminution de 72.2%\n",
      "----------------------------------------------------------------------\n"
     ]
    }
   ],
   "source": [
    "df_final = fctUtiles.reduce_mem_usage(data_cleaned, verbose=True)"
   ]
  },
  {
   "cell_type": "markdown",
   "id": "1c3867cd",
   "metadata": {},
   "source": [
    "###### Enregistrement des nouveaux jeux de données"
   ]
  },
  {
   "cell_type": "code",
   "execution_count": 35,
   "id": "5b12c089",
   "metadata": {},
   "outputs": [],
   "source": [
    "df_final.to_csv('./data/preprocessed_data/df_final.csv', index=False)"
   ]
  },
  {
   "cell_type": "code",
   "execution_count": 36,
   "id": "bf0011d4",
   "metadata": {},
   "outputs": [],
   "source": [
    "test_df.to_csv('./data/preprocessed_data/test_df.csv', index=False)"
   ]
  },
  {
   "cell_type": "code",
   "execution_count": 37,
   "id": "315382f6",
   "metadata": {},
   "outputs": [],
   "source": [
    "df_api = df_final.sample(10)"
   ]
  },
  {
   "cell_type": "code",
   "execution_count": 38,
   "id": "2140fcbe",
   "metadata": {},
   "outputs": [
    {
     "data": {
      "text/html": [
       "<div>\n",
       "<style scoped>\n",
       "    .dataframe tbody tr th:only-of-type {\n",
       "        vertical-align: middle;\n",
       "    }\n",
       "\n",
       "    .dataframe tbody tr th {\n",
       "        vertical-align: top;\n",
       "    }\n",
       "\n",
       "    .dataframe thead th {\n",
       "        text-align: right;\n",
       "    }\n",
       "</style>\n",
       "<table border=\"1\" class=\"dataframe\">\n",
       "  <thead>\n",
       "    <tr style=\"text-align: right;\">\n",
       "      <th></th>\n",
       "      <th>SK_ID_CURR</th>\n",
       "      <th>TARGET</th>\n",
       "      <th>CODE_GENDER</th>\n",
       "      <th>FLAG_OWN_CAR</th>\n",
       "      <th>FLAG_OWN_REALTY</th>\n",
       "      <th>CNT_CHILDREN</th>\n",
       "      <th>AMT_INCOME_TOTAL</th>\n",
       "      <th>AMT_CREDIT</th>\n",
       "      <th>AMT_ANNUITY</th>\n",
       "      <th>AMT_GOODS_PRICE</th>\n",
       "      <th>...</th>\n",
       "      <th>INSTAL_AMT_INSTALMENT_MEAN</th>\n",
       "      <th>INSTAL_AMT_INSTALMENT_SUM</th>\n",
       "      <th>INSTAL_AMT_PAYMENT_MIN</th>\n",
       "      <th>INSTAL_AMT_PAYMENT_MAX</th>\n",
       "      <th>INSTAL_AMT_PAYMENT_MEAN</th>\n",
       "      <th>INSTAL_AMT_PAYMENT_SUM</th>\n",
       "      <th>INSTAL_DAYS_ENTRY_PAYMENT_MAX</th>\n",
       "      <th>INSTAL_DAYS_ENTRY_PAYMENT_MEAN</th>\n",
       "      <th>INSTAL_DAYS_ENTRY_PAYMENT_SUM</th>\n",
       "      <th>INSTAL_COUNT</th>\n",
       "    </tr>\n",
       "  </thead>\n",
       "  <tbody>\n",
       "    <tr>\n",
       "      <th>217321</th>\n",
       "      <td>351803.0</td>\n",
       "      <td>0.0</td>\n",
       "      <td>1.0</td>\n",
       "      <td>0.0</td>\n",
       "      <td>1.0</td>\n",
       "      <td>0.0</td>\n",
       "      <td>135000.0</td>\n",
       "      <td>72000.0</td>\n",
       "      <td>7753.5</td>\n",
       "      <td>72000.0</td>\n",
       "      <td>...</td>\n",
       "      <td>15771.503906</td>\n",
       "      <td>5.835456e+05</td>\n",
       "      <td>10662.254883</td>\n",
       "      <td>48765.511719</td>\n",
       "      <td>15771.503906</td>\n",
       "      <td>5.835456e+05</td>\n",
       "      <td>-23.0</td>\n",
       "      <td>-602.000</td>\n",
       "      <td>-22269.0</td>\n",
       "      <td>37.0</td>\n",
       "    </tr>\n",
       "    <tr>\n",
       "      <th>245278</th>\n",
       "      <td>383874.0</td>\n",
       "      <td>0.0</td>\n",
       "      <td>0.0</td>\n",
       "      <td>0.0</td>\n",
       "      <td>1.0</td>\n",
       "      <td>0.0</td>\n",
       "      <td>81000.0</td>\n",
       "      <td>450000.0</td>\n",
       "      <td>22018.5</td>\n",
       "      <td>450000.0</td>\n",
       "      <td>...</td>\n",
       "      <td>13190.174805</td>\n",
       "      <td>1.846625e+05</td>\n",
       "      <td>2798.370117</td>\n",
       "      <td>56511.179688</td>\n",
       "      <td>12486.046875</td>\n",
       "      <td>1.748047e+05</td>\n",
       "      <td>-513.0</td>\n",
       "      <td>-719.500</td>\n",
       "      <td>-10075.0</td>\n",
       "      <td>14.0</td>\n",
       "    </tr>\n",
       "    <tr>\n",
       "      <th>229630</th>\n",
       "      <td>365970.0</td>\n",
       "      <td>0.0</td>\n",
       "      <td>0.0</td>\n",
       "      <td>1.0</td>\n",
       "      <td>0.0</td>\n",
       "      <td>0.0</td>\n",
       "      <td>270000.0</td>\n",
       "      <td>945000.0</td>\n",
       "      <td>52767.0</td>\n",
       "      <td>945000.0</td>\n",
       "      <td>...</td>\n",
       "      <td>26931.332031</td>\n",
       "      <td>1.265773e+06</td>\n",
       "      <td>18.629999</td>\n",
       "      <td>175725.000000</td>\n",
       "      <td>26883.460938</td>\n",
       "      <td>1.263523e+06</td>\n",
       "      <td>-5.0</td>\n",
       "      <td>-786.500</td>\n",
       "      <td>-36963.0</td>\n",
       "      <td>47.0</td>\n",
       "    </tr>\n",
       "    <tr>\n",
       "      <th>57338</th>\n",
       "      <td>166455.0</td>\n",
       "      <td>0.0</td>\n",
       "      <td>0.0</td>\n",
       "      <td>1.0</td>\n",
       "      <td>0.0</td>\n",
       "      <td>0.0</td>\n",
       "      <td>90000.0</td>\n",
       "      <td>188460.0</td>\n",
       "      <td>9994.5</td>\n",
       "      <td>135000.0</td>\n",
       "      <td>...</td>\n",
       "      <td>3160.683350</td>\n",
       "      <td>6.953503e+04</td>\n",
       "      <td>1350.000000</td>\n",
       "      <td>9063.360352</td>\n",
       "      <td>3036.309570</td>\n",
       "      <td>6.679881e+04</td>\n",
       "      <td>-671.0</td>\n",
       "      <td>-1686.000</td>\n",
       "      <td>-37094.0</td>\n",
       "      <td>22.0</td>\n",
       "    </tr>\n",
       "    <tr>\n",
       "      <th>113491</th>\n",
       "      <td>231624.0</td>\n",
       "      <td>0.0</td>\n",
       "      <td>1.0</td>\n",
       "      <td>0.0</td>\n",
       "      <td>0.0</td>\n",
       "      <td>0.0</td>\n",
       "      <td>180000.0</td>\n",
       "      <td>824823.0</td>\n",
       "      <td>24246.0</td>\n",
       "      <td>688500.0</td>\n",
       "      <td>...</td>\n",
       "      <td>8560.252930</td>\n",
       "      <td>4.108921e+05</td>\n",
       "      <td>4.860000</td>\n",
       "      <td>35483.039062</td>\n",
       "      <td>7836.259766</td>\n",
       "      <td>3.761405e+05</td>\n",
       "      <td>-26.0</td>\n",
       "      <td>-1578.000</td>\n",
       "      <td>-75746.0</td>\n",
       "      <td>48.0</td>\n",
       "    </tr>\n",
       "    <tr>\n",
       "      <th>216634</th>\n",
       "      <td>351019.0</td>\n",
       "      <td>0.0</td>\n",
       "      <td>0.0</td>\n",
       "      <td>1.0</td>\n",
       "      <td>0.0</td>\n",
       "      <td>0.0</td>\n",
       "      <td>180000.0</td>\n",
       "      <td>156384.0</td>\n",
       "      <td>16420.5</td>\n",
       "      <td>135000.0</td>\n",
       "      <td>...</td>\n",
       "      <td>9684.605469</td>\n",
       "      <td>8.716145e+04</td>\n",
       "      <td>3730.229980</td>\n",
       "      <td>30819.150391</td>\n",
       "      <td>9684.605469</td>\n",
       "      <td>8.716145e+04</td>\n",
       "      <td>-96.0</td>\n",
       "      <td>-332.000</td>\n",
       "      <td>-2987.0</td>\n",
       "      <td>9.0</td>\n",
       "    </tr>\n",
       "    <tr>\n",
       "      <th>183286</th>\n",
       "      <td>312445.0</td>\n",
       "      <td>0.0</td>\n",
       "      <td>1.0</td>\n",
       "      <td>0.0</td>\n",
       "      <td>1.0</td>\n",
       "      <td>1.0</td>\n",
       "      <td>135000.0</td>\n",
       "      <td>835380.0</td>\n",
       "      <td>40189.5</td>\n",
       "      <td>675000.0</td>\n",
       "      <td>...</td>\n",
       "      <td>20578.378906</td>\n",
       "      <td>6.585081e+05</td>\n",
       "      <td>0.405000</td>\n",
       "      <td>143295.437500</td>\n",
       "      <td>20434.591797</td>\n",
       "      <td>6.539069e+05</td>\n",
       "      <td>-796.0</td>\n",
       "      <td>-1316.000</td>\n",
       "      <td>-42120.0</td>\n",
       "      <td>32.0</td>\n",
       "    </tr>\n",
       "    <tr>\n",
       "      <th>63502</th>\n",
       "      <td>173643.0</td>\n",
       "      <td>0.0</td>\n",
       "      <td>1.0</td>\n",
       "      <td>0.0</td>\n",
       "      <td>0.0</td>\n",
       "      <td>0.0</td>\n",
       "      <td>225000.0</td>\n",
       "      <td>790830.0</td>\n",
       "      <td>57676.5</td>\n",
       "      <td>675000.0</td>\n",
       "      <td>...</td>\n",
       "      <td>6327.435059</td>\n",
       "      <td>7.592922e+04</td>\n",
       "      <td>919.440002</td>\n",
       "      <td>11602.980469</td>\n",
       "      <td>5840.115234</td>\n",
       "      <td>7.008138e+04</td>\n",
       "      <td>-140.0</td>\n",
       "      <td>-266.750</td>\n",
       "      <td>-3200.0</td>\n",
       "      <td>12.0</td>\n",
       "    </tr>\n",
       "    <tr>\n",
       "      <th>31082</th>\n",
       "      <td>136077.0</td>\n",
       "      <td>0.0</td>\n",
       "      <td>0.0</td>\n",
       "      <td>1.0</td>\n",
       "      <td>1.0</td>\n",
       "      <td>1.0</td>\n",
       "      <td>180000.0</td>\n",
       "      <td>824823.0</td>\n",
       "      <td>24246.0</td>\n",
       "      <td>688500.0</td>\n",
       "      <td>...</td>\n",
       "      <td>6356.571289</td>\n",
       "      <td>1.398446e+05</td>\n",
       "      <td>2699.729980</td>\n",
       "      <td>14076.450195</td>\n",
       "      <td>6356.571289</td>\n",
       "      <td>1.398446e+05</td>\n",
       "      <td>-214.0</td>\n",
       "      <td>-1994.000</td>\n",
       "      <td>-43878.0</td>\n",
       "      <td>22.0</td>\n",
       "    </tr>\n",
       "    <tr>\n",
       "      <th>211326</th>\n",
       "      <td>344898.0</td>\n",
       "      <td>0.0</td>\n",
       "      <td>1.0</td>\n",
       "      <td>0.0</td>\n",
       "      <td>1.0</td>\n",
       "      <td>0.0</td>\n",
       "      <td>31500.0</td>\n",
       "      <td>247275.0</td>\n",
       "      <td>17586.0</td>\n",
       "      <td>225000.0</td>\n",
       "      <td>...</td>\n",
       "      <td>15998.535156</td>\n",
       "      <td>1.759839e+05</td>\n",
       "      <td>15998.535156</td>\n",
       "      <td>15998.535156</td>\n",
       "      <td>15998.535156</td>\n",
       "      <td>1.759839e+05</td>\n",
       "      <td>-20.0</td>\n",
       "      <td>-175.875</td>\n",
       "      <td>-1935.0</td>\n",
       "      <td>11.0</td>\n",
       "    </tr>\n",
       "  </tbody>\n",
       "</table>\n",
       "<p>10 rows × 291 columns</p>\n",
       "</div>"
      ],
      "text/plain": [
       "        SK_ID_CURR  TARGET  CODE_GENDER  FLAG_OWN_CAR  FLAG_OWN_REALTY  \\\n",
       "217321    351803.0     0.0          1.0           0.0              1.0   \n",
       "245278    383874.0     0.0          0.0           0.0              1.0   \n",
       "229630    365970.0     0.0          0.0           1.0              0.0   \n",
       "57338     166455.0     0.0          0.0           1.0              0.0   \n",
       "113491    231624.0     0.0          1.0           0.0              0.0   \n",
       "216634    351019.0     0.0          0.0           1.0              0.0   \n",
       "183286    312445.0     0.0          1.0           0.0              1.0   \n",
       "63502     173643.0     0.0          1.0           0.0              0.0   \n",
       "31082     136077.0     0.0          0.0           1.0              1.0   \n",
       "211326    344898.0     0.0          1.0           0.0              1.0   \n",
       "\n",
       "        CNT_CHILDREN  AMT_INCOME_TOTAL  AMT_CREDIT  AMT_ANNUITY  \\\n",
       "217321           0.0          135000.0     72000.0       7753.5   \n",
       "245278           0.0           81000.0    450000.0      22018.5   \n",
       "229630           0.0          270000.0    945000.0      52767.0   \n",
       "57338            0.0           90000.0    188460.0       9994.5   \n",
       "113491           0.0          180000.0    824823.0      24246.0   \n",
       "216634           0.0          180000.0    156384.0      16420.5   \n",
       "183286           1.0          135000.0    835380.0      40189.5   \n",
       "63502            0.0          225000.0    790830.0      57676.5   \n",
       "31082            1.0          180000.0    824823.0      24246.0   \n",
       "211326           0.0           31500.0    247275.0      17586.0   \n",
       "\n",
       "        AMT_GOODS_PRICE  ...  INSTAL_AMT_INSTALMENT_MEAN  \\\n",
       "217321          72000.0  ...                15771.503906   \n",
       "245278         450000.0  ...                13190.174805   \n",
       "229630         945000.0  ...                26931.332031   \n",
       "57338          135000.0  ...                 3160.683350   \n",
       "113491         688500.0  ...                 8560.252930   \n",
       "216634         135000.0  ...                 9684.605469   \n",
       "183286         675000.0  ...                20578.378906   \n",
       "63502          675000.0  ...                 6327.435059   \n",
       "31082          688500.0  ...                 6356.571289   \n",
       "211326         225000.0  ...                15998.535156   \n",
       "\n",
       "        INSTAL_AMT_INSTALMENT_SUM  INSTAL_AMT_PAYMENT_MIN  \\\n",
       "217321               5.835456e+05            10662.254883   \n",
       "245278               1.846625e+05             2798.370117   \n",
       "229630               1.265773e+06               18.629999   \n",
       "57338                6.953503e+04             1350.000000   \n",
       "113491               4.108921e+05                4.860000   \n",
       "216634               8.716145e+04             3730.229980   \n",
       "183286               6.585081e+05                0.405000   \n",
       "63502                7.592922e+04              919.440002   \n",
       "31082                1.398446e+05             2699.729980   \n",
       "211326               1.759839e+05            15998.535156   \n",
       "\n",
       "        INSTAL_AMT_PAYMENT_MAX  INSTAL_AMT_PAYMENT_MEAN  \\\n",
       "217321            48765.511719             15771.503906   \n",
       "245278            56511.179688             12486.046875   \n",
       "229630           175725.000000             26883.460938   \n",
       "57338              9063.360352              3036.309570   \n",
       "113491            35483.039062              7836.259766   \n",
       "216634            30819.150391              9684.605469   \n",
       "183286           143295.437500             20434.591797   \n",
       "63502             11602.980469              5840.115234   \n",
       "31082             14076.450195              6356.571289   \n",
       "211326            15998.535156             15998.535156   \n",
       "\n",
       "        INSTAL_AMT_PAYMENT_SUM  INSTAL_DAYS_ENTRY_PAYMENT_MAX  \\\n",
       "217321            5.835456e+05                          -23.0   \n",
       "245278            1.748047e+05                         -513.0   \n",
       "229630            1.263523e+06                           -5.0   \n",
       "57338             6.679881e+04                         -671.0   \n",
       "113491            3.761405e+05                          -26.0   \n",
       "216634            8.716145e+04                          -96.0   \n",
       "183286            6.539069e+05                         -796.0   \n",
       "63502             7.008138e+04                         -140.0   \n",
       "31082             1.398446e+05                         -214.0   \n",
       "211326            1.759839e+05                          -20.0   \n",
       "\n",
       "        INSTAL_DAYS_ENTRY_PAYMENT_MEAN  INSTAL_DAYS_ENTRY_PAYMENT_SUM  \\\n",
       "217321                        -602.000                       -22269.0   \n",
       "245278                        -719.500                       -10075.0   \n",
       "229630                        -786.500                       -36963.0   \n",
       "57338                        -1686.000                       -37094.0   \n",
       "113491                       -1578.000                       -75746.0   \n",
       "216634                        -332.000                        -2987.0   \n",
       "183286                       -1316.000                       -42120.0   \n",
       "63502                         -266.750                        -3200.0   \n",
       "31082                        -1994.000                       -43878.0   \n",
       "211326                        -175.875                        -1935.0   \n",
       "\n",
       "        INSTAL_COUNT  \n",
       "217321          37.0  \n",
       "245278          14.0  \n",
       "229630          47.0  \n",
       "57338           22.0  \n",
       "113491          48.0  \n",
       "216634           9.0  \n",
       "183286          32.0  \n",
       "63502           12.0  \n",
       "31082           22.0  \n",
       "211326          11.0  \n",
       "\n",
       "[10 rows x 291 columns]"
      ]
     },
     "execution_count": 38,
     "metadata": {},
     "output_type": "execute_result"
    }
   ],
   "source": [
    "df_api"
   ]
  },
  {
   "cell_type": "code",
   "execution_count": 39,
   "id": "5369f37a",
   "metadata": {},
   "outputs": [],
   "source": [
    "df_api.to_csv('./data/preprocessed_data/df_api.csv', index=False)"
   ]
  },
  {
   "cell_type": "markdown",
   "id": "04eefdc7",
   "metadata": {},
   "source": [
    "### Fin"
   ]
  }
 ],
 "metadata": {
  "kernelspec": {
   "display_name": "Python 3 (ipykernel)",
   "language": "python",
   "name": "python3"
  },
  "language_info": {
   "codemirror_mode": {
    "name": "ipython",
    "version": 3
   },
   "file_extension": ".py",
   "mimetype": "text/x-python",
   "name": "python",
   "nbconvert_exporter": "python",
   "pygments_lexer": "ipython3",
   "version": "3.10.9"
  }
 },
 "nbformat": 4,
 "nbformat_minor": 5
}
